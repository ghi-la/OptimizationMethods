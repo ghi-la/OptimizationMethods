{
 "cells": [
  {
   "cell_type": "markdown",
   "metadata": {},
   "source": [
    "# Assignment 4 - Optimization Methods\n",
    "## Matteo Ghilardini\n",
    "---"
   ]
  },
  {
   "cell_type": "markdown",
   "metadata": {},
   "source": [
    "### Part 2: programming problem"
   ]
  },
  {
   "cell_type": "markdown",
   "metadata": {},
   "source": [
    "#### Setup the environment:"
   ]
  },
  {
   "cell_type": "markdown",
   "metadata": {},
   "source": [
    "Install the required libraries in the jupiter notebook environment:"
   ]
  },
  {
   "cell_type": "code",
   "execution_count": 221,
   "metadata": {},
   "outputs": [
    {
     "name": "stdout",
     "output_type": "stream",
     "text": [
      "Requirement already satisfied: numpy in /Users/ghila/.pyenv/versions/3.10.12/lib/python3.10/site-packages (2.2.3)\n",
      "Requirement already satisfied: matplotlib in /Users/ghila/.pyenv/versions/3.10.12/lib/python3.10/site-packages (3.10.1)\n",
      "Requirement already satisfied: contourpy>=1.0.1 in /Users/ghila/.pyenv/versions/3.10.12/lib/python3.10/site-packages (from matplotlib) (1.3.1)\n",
      "Requirement already satisfied: cycler>=0.10 in /Users/ghila/.pyenv/versions/3.10.12/lib/python3.10/site-packages (from matplotlib) (0.12.1)\n",
      "Requirement already satisfied: fonttools>=4.22.0 in /Users/ghila/.pyenv/versions/3.10.12/lib/python3.10/site-packages (from matplotlib) (4.56.0)\n",
      "Requirement already satisfied: kiwisolver>=1.3.1 in /Users/ghila/.pyenv/versions/3.10.12/lib/python3.10/site-packages (from matplotlib) (1.4.8)\n",
      "Requirement already satisfied: packaging>=20.0 in /Users/ghila/.pyenv/versions/3.10.12/lib/python3.10/site-packages (from matplotlib) (24.2)\n",
      "Requirement already satisfied: pillow>=8 in /Users/ghila/.pyenv/versions/3.10.12/lib/python3.10/site-packages (from matplotlib) (11.1.0)\n",
      "Requirement already satisfied: pyparsing>=2.3.1 in /Users/ghila/.pyenv/versions/3.10.12/lib/python3.10/site-packages (from matplotlib) (3.2.1)\n",
      "Requirement already satisfied: python-dateutil>=2.7 in /Users/ghila/.pyenv/versions/3.10.12/lib/python3.10/site-packages (from matplotlib) (2.9.0.post0)\n",
      "Requirement already satisfied: six>=1.5 in /Users/ghila/.pyenv/versions/3.10.12/lib/python3.10/site-packages (from python-dateutil>=2.7->matplotlib) (1.17.0)\n",
      "Note: you may need to restart the kernel to use updated packages.\n"
     ]
    }
   ],
   "source": [
    "pip install numpy matplotlib"
   ]
  },
  {
   "cell_type": "markdown",
   "metadata": {},
   "source": [
    "Import all the required libraries"
   ]
  },
  {
   "cell_type": "code",
   "execution_count": 222,
   "metadata": {},
   "outputs": [],
   "source": [
    "import numpy as np\n",
    "import matplotlib.pyplot as plt\n",
    "from math import factorial, pow"
   ]
  },
  {
   "cell_type": "markdown",
   "metadata": {},
   "source": [
    "#### **Problem 1** (Line search)\n",
    "We consider the function\n",
    "$$\n",
    "f(x)=x_1^2+2x_2^2\n",
    "$$"
   ]
  },
  {
   "cell_type": "markdown",
   "metadata": {},
   "source": [
    "##### 1. Define a function that computes $f(x)$ for any $x = (x_1, x_2)$."
   ]
  },
  {
   "cell_type": "code",
   "execution_count": 223,
   "metadata": {},
   "outputs": [],
   "source": [
    "def f(x):\n",
    "    x1, x2 = x\n",
    "    return x1**2 + 2*x2**2"
   ]
  },
  {
   "cell_type": "markdown",
   "metadata": {},
   "source": [
    "##### 2. Define a function that computes the gradient of $f$, $\\nabla f(x)$ for any $x = (x_1, x_2)$."
   ]
  },
  {
   "cell_type": "code",
   "execution_count": 224,
   "metadata": {},
   "outputs": [],
   "source": [
    "def grad_f(x):\n",
    "    x1, x2 = x\n",
    "    partial_x1 = 2*x1\n",
    "    partial_x2 = 4*x2\n",
    "    return np.array([partial_x1, partial_x2])"
   ]
  },
  {
   "cell_type": "markdown",
   "metadata": {},
   "source": [
    "##### 3. Evaluate $f$ and its gradient function at $x^{(0)} = (9, 1)^T$."
   ]
  },
  {
   "cell_type": "code",
   "execution_count": 225,
   "metadata": {},
   "outputs": [
    {
     "name": "stdout",
     "output_type": "stream",
     "text": [
      "Function value at x_0 =  [9. 1.] : 83.0\n",
      "Gradient of f at x_0 =  [9. 1.] : [18.  4.]\n"
     ]
    }
   ],
   "source": [
    "x_0 = np.array([9.0, 1.0])\n",
    "\n",
    "print(\"Function value at x_0 = \",x_0,\":\", f(x_0))\n",
    "print(\"Gradient of f at x_0 = \",x_0,\":\", grad_f(x_0))"
   ]
  },
  {
   "cell_type": "markdown",
   "metadata": {},
   "source": [
    "##### 4. Define a function `wolfe_conditions` that verifies if the first and second Wolfe conditions are verified for some $\\alpha > 0$, given a function, its gradient function, a current point $x$, a direction $d$ and the parameters $\\eta$ and $\\bar{\\eta}$ of the Wolfe conditions. \n",
    "This function should take as input\n",
    "- a function $f$ (callable object)\n",
    "- its gradient function $\\nabla f$ (callable object)\n",
    "- a current points $x$\n",
    "- a direction $d$\n",
    "- a step size $\\alpha$\n",
    "- parameters $\\eta$ and $\\bar{\\eta}$.\n",
    "\n",
    "and should return a tuple of 2 booleans, indicating if each of the Wolfe conditions is verified."
   ]
  },
  {
   "cell_type": "markdown",
   "metadata": {},
   "source": [
    "First wolfe: $g(\\alpha^{(k)}) = f(x^{(k)} + \\alpha^{(k)} d^{(k)}) \\leq f(x^{(k)}) + \\eta \\alpha^{(k)} \\nabla f(x^{(k)})^T d^{(k)} = \\ell(\\alpha^{(k)})$\n",
    "\n",
    "Second wolfe: $\\nabla f(x^{(k)} + \\alpha^{(k)} d^{(k)})^T d^{(k)} \\geq \\bar{\\eta} \\nabla f(x^{(k)})^T d^{(k)}$\n"
   ]
  },
  {
   "cell_type": "code",
   "execution_count": 226,
   "metadata": {},
   "outputs": [],
   "source": [
    "def verify_first_wolfe(f, x, alpha, grad_f, d_N, eta = 0.2):\n",
    "    lhs = f(x + alpha * d_N)\n",
    "    rhs = f(x) + alpha * eta * grad_f(x).dot(d_N)\n",
    "    return lhs <= rhs\n",
    "\n",
    "def verify_second_wolfe(f, x, alpha, grad_f, d_N, eta_bar = 0.8):\n",
    "    lhs = grad_f(x + alpha * d_N).dot(d_N)\n",
    "    rhs = eta_bar * grad_f(x).dot(d_N)\n",
    "    return lhs >= rhs\n",
    "\n",
    "def wolfe_conditions(f, grad_f, x, d, alpha=0.1, eta=0.01, eta_bar=0.8):\n",
    "    return verify_first_wolfe(f, x, alpha, grad_f, d, eta), verify_second_wolfe(f, x, alpha, grad_f, d, eta_bar)"
   ]
  },
  {
   "cell_type": "markdown",
   "metadata": {},
   "source": [
    "##### 5. Test the `wolfe_conditions` function for the function $f$ at $x^{(0)} = (9, 1)^T$ with $d^{(0)} = −\\nabla f(x^{(0)})$, $\\alpha = 0.05$, $\\eta = 0.01$, $\\bar{\\eta} = 0.8$ "
   ]
  },
  {
   "cell_type": "code",
   "execution_count": 227,
   "metadata": {},
   "outputs": [
    {
     "name": "stdout",
     "output_type": "stream",
     "text": [
      "First Wolfe condition satisfied: \t True\n",
      "Second Wolfe condition satisfied: \t False\n"
     ]
    }
   ],
   "source": [
    "# Compute the direction d^(0)\n",
    "d_0 = -grad_f(x_0)\n",
    "\n",
    "# Test the wolfe_conditions function\n",
    "alpha = 0.05\n",
    "eta = 0.01\n",
    "eta_bar = 0.8\n",
    "\n",
    "verify_first, verify_second = wolfe_conditions(f, grad_f, x_0, d_0, alpha, eta, eta_bar)\n",
    "\n",
    "print(\"First Wolfe condition satisfied: \\t\", verify_first)\n",
    "print(\"Second Wolfe condition satisfied: \\t\", verify_second)"
   ]
  },
  {
   "cell_type": "markdown",
   "metadata": {},
   "source": [
    "##### 6. Define a function `backtracking` that implements the backtracking line search algorithm. \n",
    "This function should take as input\n",
    "- a function $f$ (callable object)\n",
    "- its gradient function $\\nabla f$ (callable object)\n",
    "- a current points $x$\n",
    "- a direction $d$\n",
    "- a maximum step size $\\bar{\\alpha}$\n",
    "- parameter $\\eta$ of the first Wolfe conditions\n",
    "and should return the found value of $\\alpha ^*$ and the new iterate $x_{new} = x + \\alpha ^* d$. It should also call the function `wolfe_conditions`."
   ]
  },
  {
   "cell_type": "code",
   "execution_count": 228,
   "metadata": {},
   "outputs": [],
   "source": [
    "def backtracking(f, grad_f, x, d, alpha_max, eta, eta_bar=0.8):\n",
    "    alpha = alpha_max\n",
    "    while not all(wolfe_conditions(f, grad_f, x, d, alpha, eta, eta_bar)): # Repeat until both Wolfe conditions are satisfied\n",
    "        alpha *= 0.5  # Reduce the step size (i.e. alpha)\n",
    "    x_new = x + alpha * d\n",
    "    return alpha, x_new"
   ]
  },
  {
   "cell_type": "markdown",
   "metadata": {},
   "source": [
    "##### 7. Test the `backtracking` function for the function $f$ at $x^(0) = (9, 1)^T$ with $d^{(0)} =−\\nabla f(x^{(0)})$, $\\bar{\\alpha} = 10$ and $\\eta = 0.01$."
   ]
  },
  {
   "cell_type": "code",
   "execution_count": 229,
   "metadata": {},
   "outputs": [
    {
     "name": "stdout",
     "output_type": "stream",
     "text": [
      "alpha*: 0.625\n",
      "x_new: [-2.25 -1.5 ]\n"
     ]
    }
   ],
   "source": [
    "x_0 = np.array([9.0, 1.0])\n",
    "d_0 = -grad_f(x_0)\n",
    "alpha_max = 10\n",
    "eta = 0.01\n",
    "\n",
    "alpha_star, x_new = backtracking(f, grad_f, x_0, d_0, alpha_max, eta)\n",
    "\n",
    "print(\"alpha*:\", alpha_star)\n",
    "print(\"x_new:\", x_new)"
   ]
  },
  {
   "cell_type": "markdown",
   "metadata": {},
   "source": [
    "#### **Problem 2** (Unconstrained optimisation)"
   ]
  },
  {
   "cell_type": "markdown",
   "metadata": {},
   "source": [
    "Consider the function $f(x) = x_1^3 − x_1 + x_2^3 − x_2$ and solve the following problem\n",
    "$$\n",
    "\\min_{x \\in \\R^2} f(x),\n",
    "$$\n",
    "\n",
    "using your own implementation of each of the following algorithms:\n",
    "- Gradient descent with a fixed constant step size, chosen by you.\n",
    "- Gradient descent with backtracking line search.\n",
    "- Newton’s method with backtracking line search.\n",
    "\n",
    "with starting point $x^{(0)} = (1, 1)^T$."
   ]
  },
  {
   "cell_type": "markdown",
   "metadata": {},
   "source": [
    "Compute everithing that is needed too solve the problem:\n",
    "$$\n",
    "\\nabla f(x)=\n",
    "\\begin{bmatrix}\n",
    "   \\frac{\\partial f}{\\partial x_1} &\n",
    "   \\frac{\\partial f}{\\partial x_2} \n",
    "\\end{bmatrix} ^T\n",
    "$$\n",
    "\n",
    "So step by step we have:\n",
    "- $\\frac{\\partial f}{\\partial x_1} = 3x_1^2 - 1$\n",
    "- $\\frac{\\partial f}{\\partial x_2} = 3x_2^2 - 1$\n",
    "\n",
    "Resulting in:\n",
    "$$\n",
    "\\nabla f(x)=\n",
    "\\begin{bmatrix}\n",
    "   3x_1^2 - 1 \\\\\n",
    "   3x_2^2 - 1\n",
    "\\end{bmatrix}\n",
    "$$\n",
    "\n",
    "Hessian is\n",
    "$$\n",
    "H(x)=\n",
    "\\begin{bmatrix}\n",
    "   \\frac{\\partial f}{\\partial^2 x_1} & \\frac{\\partial f}{\\partial x_1 \\partial x_2} \\\\\n",
    "   \\frac{\\partial f}{\\partial x_2 \\partial x_1} & \\frac{\\partial f}{\\partial^2 x_2}  \n",
    "\\end{bmatrix}\n",
    "= \\begin{bmatrix}\n",
    "   6x_1 & 0 \\\\\n",
    "   0 & 6x_2 \n",
    "\\end{bmatrix}\n",
    "$$\n"
   ]
  },
  {
   "cell_type": "code",
   "execution_count": 230,
   "metadata": {},
   "outputs": [],
   "source": [
    "def f(x):\n",
    "    x1, x2 = x\n",
    "    return x1**3 - x1 + x2**3 - x2\n",
    "\n",
    "def grad_f(x):\n",
    "    x1, x2 = x\n",
    "\n",
    "    partial_x1 = 3*x1**2 - 1\n",
    "    partial_x2 = 3*x2**2 - 1\n",
    "    return np.array([partial_x1, partial_x2])\n",
    "\n",
    "def hess_f(x):\n",
    "    x1, x2 = x\n",
    "    partial_x1x1 = 6*x1\n",
    "    partial_x1x2 = 0\n",
    "    partial_x2x1 = 0\n",
    "    partial_x2x2 = 6*x2\n",
    "    hessian = np.array([[partial_x1x1, partial_x1x2],\n",
    "                        [partial_x2x1, partial_x2x2]])\n",
    "    return hessian"
   ]
  },
  {
   "cell_type": "code",
   "execution_count": 231,
   "metadata": {},
   "outputs": [],
   "source": [
    "# From Assignment 2, problem 2\n",
    "def gradient_descent(f, gradient, alpha, x_start, max_iter=1000, tol=1e-6):\n",
    "    k = 0\n",
    "    x_k = x_start\n",
    "    g_k = gradient(x_k)\n",
    "    iterates = [x_k]\n",
    "    while np.linalg.norm(g_k) > tol and k < max_iter:\n",
    "        x_k = x_k - alpha * g_k\n",
    "        g_k = gradient(x_k)\n",
    "        k += 1\n",
    "        iterates.append(x_k)\n",
    "    return iterates"
   ]
  },
  {
   "cell_type": "code",
   "execution_count": 232,
   "metadata": {},
   "outputs": [],
   "source": [
    "def gradient_descent_backtrack(f, gradient, x_start, alpha_max=1.0, eta=0.01, max_iter=1000, tol=1e-6):\n",
    "    k = 0\n",
    "    x_k = x_start\n",
    "    g_k = gradient(x_k)\n",
    "    iterates = [x_k]\n",
    "    while np.linalg.norm(g_k) > tol and k < max_iter:\n",
    "        d_k = -g_k\n",
    "        _, x_new = backtracking(f, gradient, x_k, d_k, alpha_max, eta)\n",
    "        x_k = x_new\n",
    "        g_k = gradient(x_k)\n",
    "        k += 1\n",
    "        iterates.append(x_k)\n",
    "    return iterates"
   ]
  },
  {
   "cell_type": "code",
   "execution_count": 233,
   "metadata": {},
   "outputs": [],
   "source": [
    "# Based on Assignment 3, problem 2 but implementing backtracking line search\n",
    "def newton_method(x0, tol=1e-6, max_iter=1000):\n",
    "    x = x0\n",
    "    for k in range(max_iter):\n",
    "        grad = grad_f(x)\n",
    "        if np.linalg.norm(grad) < tol:\n",
    "            break\n",
    "        hess = hess_f(x)\n",
    "        d = np.linalg.solve(hess, -grad)\n",
    "        alpha, _ = backtracking(f, grad_f, x, d, alpha_max=1.0, eta=0.01)\n",
    "        x = x + alpha * d\n",
    "    return x, k + 1"
   ]
  },
  {
   "cell_type": "code",
   "execution_count": 234,
   "metadata": {},
   "outputs": [
    {
     "name": "stdout",
     "output_type": "stream",
     "text": [
      "Gradient descent with a fixed constant step size:  [0.57735047 0.57735047] after 405 iterations\n",
      "Gradient descent with backtracking line search:  [0.57735046 0.57735046] after 43 iterations\n",
      "Newton's method:  [0.57735027 0.57735027] after 5 iterations\n"
     ]
    }
   ],
   "source": [
    "x_0 = np.array([1,1])\n",
    "gd_iterates = gradient_descent(f, grad_f, 0.01, x_0)\n",
    "print(\"Gradient descent with a fixed constant step size: \", gd_iterates[-1], \"after\", len(gd_iterates), \"iterations\")\n",
    "gd_backtrack_iterates = gradient_descent_backtrack(f, grad_f, x_0)\n",
    "print(\"Gradient descent with backtracking line search: \", gd_backtrack_iterates[-1], \"after\", len(gd_backtrack_iterates), \"iterations\")\n",
    "newton_iterates = newton_method(x_0)\n",
    "print(\"Newton's method: \", newton_iterates[0], \"after\", newton_iterates[1], \"iterations\")"
   ]
  },
  {
   "cell_type": "markdown",
   "metadata": {},
   "source": [
    "#### **Problem 3** (Finite difference)"
   ]
  },
  {
   "cell_type": "markdown",
   "metadata": {},
   "source": [
    "##### 1. Define a function `forward_finite_difference` that compute the forward finite difference approximation of the first derivative of a function $f$ at a point $x$. The function `forward_finite_difference` must take as input a function $f$, a point $x$ and a level $t$ used to compute the finite difference."
   ]
  },
  {
   "cell_type": "markdown",
   "metadata": {},
   "source": [
    "From lecture5 notes we have that Forward Finite Difference is $f'(x) \\approx \\frac{f(x + t) - f(x)}{t}.$"
   ]
  },
  {
   "cell_type": "code",
   "execution_count": 235,
   "metadata": {},
   "outputs": [],
   "source": [
    "def forward_finite_difference(f, x, t):\n",
    "    return (f(x + t) - f(x)) / t"
   ]
  },
  {
   "cell_type": "markdown",
   "metadata": {},
   "source": [
    "##### 2. Define a function $f$ that compute the $sin$ of any real number $x$. Then define another function that outputs the (analytical) derivative of $f$."
   ]
  },
  {
   "cell_type": "markdown",
   "metadata": {},
   "source": [
    "Given $f(x) = sin(x)$ we have that $f'(x) = cos(x)$"
   ]
  },
  {
   "cell_type": "code",
   "execution_count": 236,
   "metadata": {},
   "outputs": [],
   "source": [
    "def f(x):\n",
    "    return np.sin(x)\n",
    "\n",
    "def f_1(x):\n",
    "    return np.cos(x)"
   ]
  },
  {
   "cell_type": "markdown",
   "metadata": {},
   "source": [
    "##### 3. Compute the estimate of $f'(x)$ at $x = 1$ using the function `forward_finite_difference` for $t = 10^{−16}, 10^{−15} , \\dots , 10^{−2}, 10^{−1}$ and compute the approximation error for each $t$. Plot this error versus $t$ in _log-log scale_."
   ]
  },
  {
   "cell_type": "code",
   "execution_count": 237,
   "metadata": {},
   "outputs": [
    {
     "data": {
      "image/png": "[encoded data removed]",
      "text/plain": [
       "<Figure size 640x480 with 1 Axes>"
      ]
     },
     "metadata": {},
     "output_type": "display_data"
    }
   ],
   "source": [
    "# Define the range of t values\n",
    "t_values = np.logspace(-16, -1, 16) # between 10^-16 and 10^-1 with 16 points\n",
    "\n",
    "x = 1\n",
    "true_derivative = f_1(x)\n",
    "errors = []\n",
    "\n",
    "for t in t_values:\n",
    "    approx_derivative = forward_finite_difference(f, x, t)\n",
    "    error = abs(approx_derivative - true_derivative)\n",
    "    errors.append(error)\n",
    "\n",
    "plt.loglog(t_values, errors, label=\"Forward Finite Difference Error\")\n",
    "plt.xlabel(\"t\")\n",
    "plt.ylabel(\"Error\")\n",
    "plt.legend()\n",
    "plt.grid()\n",
    "plt.show()"
   ]
  },
  {
   "cell_type": "markdown",
   "metadata": {},
   "source": [
    "##### 4. Define a function `central_difference` that compute the central difference approximation of the first derivative of a function $f$ at a point $x$. The function `central_difference` must take as input a function $f$, a point $x$ and a level $t$ used to compute the finite difference."
   ]
  },
  {
   "cell_type": "markdown",
   "metadata": {},
   "source": [
    "From lecture5 notes we have that Central Difference Formula is $f'(x) = \\frac{f(x + t) - f(x - t)}{2t} + \\tilde{\\delta}(t), \\quad |\\tilde{\\delta}(t)| \\leq Lt^2.$\n"
   ]
  },
  {
   "cell_type": "code",
   "execution_count": 238,
   "metadata": {},
   "outputs": [],
   "source": [
    "def central_difference(f, x, t):\n",
    "    return (f(x + t) - f(x - t)) / (2 * t)"
   ]
  },
  {
   "cell_type": "markdown",
   "metadata": {},
   "source": [
    "##### 5. Compute the estimate of $f'(x)$ at x = 1 using the function `central_difference` for $t = 10^{−16}, 10^{−15} , \\dots , 10^{−2}, 10^{−1}$ and compute the approximation error for each $t$. Plot this error versus $t$ in _log-log scale_ and on the same plot, the error of the forward finite difference scheme. Comment the results."
   ]
  },
  {
   "cell_type": "code",
   "execution_count": 239,
   "metadata": {},
   "outputs": [
    {
     "data": {
      "image/png": "[encoded data removed]",
      "text/plain": [
       "<Figure size 640x480 with 1 Axes>"
      ]
     },
     "metadata": {},
     "output_type": "display_data"
    }
   ],
   "source": [
    "central_errors = []\n",
    "\n",
    "for t in t_values:\n",
    "    approx_derivative_central = central_difference(f, x, t)\n",
    "    error_central = abs(approx_derivative_central - true_derivative)\n",
    "    central_errors.append(error_central)\n",
    "\n",
    "# Plot the errors for both forward finite difference and central difference\n",
    "plt.loglog(t_values, errors, label=\"Forward Finite Difference Error\")\n",
    "plt.loglog(t_values, central_errors, label=\"Central Difference Error\")\n",
    "plt.xlabel(\"t\")\n",
    "plt.ylabel(\"Error\")\n",
    "plt.legend()\n",
    "plt.grid()\n",
    "plt.show()"
   ]
  },
  {
   "cell_type": "markdown",
   "metadata": {},
   "source": [
    "We can notice that the **Central Difference** function provides smaller error (i.e. a better approximation of the derivative) compared to the **Forward Finite Difference** function for a wide range of the given $t$.\n",
    "\n",
    "This behaviour is expected since the approximation error of **Centrall Difference** is of order $O (t^2)$, which is much smaller than the for the **Forward Difference** (approximation error is of order $O(t)$) since for $t \\rightarrow 0$ _(recall from lecture 5 notes_).\n",
    "\n",
    "However, we can notice that for the smallest values of $t$ the approximation error of both functions is quite big. This is probably due to numerical errors of floating-precision numbers; by fact with very small value of $t$, in both formulas \n",
    "$$f'(x) \\approx \\frac{f(x + t) - f(x)}{t} \\text{ for Forward Finite Difference, and } f'(x) \\approx \\frac{f(x + t) - f(x - t)}{2t} \\text{ for Central Difference}$$ \n",
    "we result having a subtraction between two factors whome values are nearly identical; this can cause **cancellation errors**, i.e. causing a loss of precision and so increasing the error."
   ]
  }
 ],
 "metadata": {
  "kernelspec": {
   "display_name": "3.10.12",
   "language": "python",
   "name": "python3"
  },
  "language_info": {
   "codemirror_mode": {
    "name": "ipython",
    "version": 3
   },
   "file_extension": ".py",
   "mimetype": "text/x-python",
   "name": "python",
   "nbconvert_exporter": "python",
   "pygments_lexer": "ipython3",
   "version": "3.10.12"
  }
 },
 "nbformat": 4,
 "nbformat_minor": 2
}
