{
 "cells": [
  {
   "cell_type": "markdown",
   "metadata": {},
   "source": [
    "# Assignment 4 - Optimization Methods\n",
    "## Matteo Ghilardini\n",
    "---"
   ]
  },
  {
   "cell_type": "markdown",
   "metadata": {},
   "source": [
    "### Part 2: programming problem"
   ]
  },
  {
   "cell_type": "markdown",
   "metadata": {},
   "source": [
    "#### Setup the environment:"
   ]
  },
  {
   "cell_type": "markdown",
   "metadata": {},
   "source": [
    "Install the required libraries in the jupiter notebook environment:"
   ]
  },
  {
   "cell_type": "code",
   "execution_count": 30,
   "metadata": {},
   "outputs": [
    {
     "name": "stdout",
     "output_type": "stream",
     "text": [
      "Requirement already satisfied: numpy in /Users/ghila/.pyenv/versions/3.10.12/lib/python3.10/site-packages (2.2.3)\n",
      "Requirement already satisfied: matplotlib in /Users/ghila/.pyenv/versions/3.10.12/lib/python3.10/site-packages (3.10.1)\n",
      "Requirement already satisfied: contourpy>=1.0.1 in /Users/ghila/.pyenv/versions/3.10.12/lib/python3.10/site-packages (from matplotlib) (1.3.1)\n",
      "Requirement already satisfied: cycler>=0.10 in /Users/ghila/.pyenv/versions/3.10.12/lib/python3.10/site-packages (from matplotlib) (0.12.1)\n",
      "Requirement already satisfied: fonttools>=4.22.0 in /Users/ghila/.pyenv/versions/3.10.12/lib/python3.10/site-packages (from matplotlib) (4.56.0)\n",
      "Requirement already satisfied: kiwisolver>=1.3.1 in /Users/ghila/.pyenv/versions/3.10.12/lib/python3.10/site-packages (from matplotlib) (1.4.8)\n",
      "Requirement already satisfied: packaging>=20.0 in /Users/ghila/.pyenv/versions/3.10.12/lib/python3.10/site-packages (from matplotlib) (24.2)\n",
      "Requirement already satisfied: pillow>=8 in /Users/ghila/.pyenv/versions/3.10.12/lib/python3.10/site-packages (from matplotlib) (11.1.0)\n",
      "Requirement already satisfied: pyparsing>=2.3.1 in /Users/ghila/.pyenv/versions/3.10.12/lib/python3.10/site-packages (from matplotlib) (3.2.1)\n",
      "Requirement already satisfied: python-dateutil>=2.7 in /Users/ghila/.pyenv/versions/3.10.12/lib/python3.10/site-packages (from matplotlib) (2.9.0.post0)\n",
      "Requirement already satisfied: six>=1.5 in /Users/ghila/.pyenv/versions/3.10.12/lib/python3.10/site-packages (from python-dateutil>=2.7->matplotlib) (1.17.0)\n",
      "Note: you may need to restart the kernel to use updated packages.\n"
     ]
    }
   ],
   "source": [
    "pip install numpy matplotlib"
   ]
  },
  {
   "cell_type": "markdown",
   "metadata": {},
   "source": [
    "Import all the required libraries"
   ]
  },
  {
   "cell_type": "code",
   "execution_count": 31,
   "metadata": {},
   "outputs": [],
   "source": [
    "import numpy as np\n",
    "import matplotlib.pyplot as plt\n",
    "from math import factorial, pow"
   ]
  },
  {
   "cell_type": "markdown",
   "metadata": {},
   "source": [
    "#### **Problem 1** (Line search)\n",
    "We consider the function\n",
    "$$\n",
    "f(x)=x_1^2+2x_2^2\n",
    "$$"
   ]
  },
  {
   "cell_type": "markdown",
   "metadata": {},
   "source": [
    "##### 1. Define a function that computes $f(x)$ for any $x = (x_1, x_2)$."
   ]
  },
  {
   "cell_type": "code",
   "execution_count": 32,
   "metadata": {},
   "outputs": [],
   "source": [
    "def f(x):\n",
    "    x1, x2 = x\n",
    "    return x1**2 + 2*x2**2"
   ]
  },
  {
   "cell_type": "markdown",
   "metadata": {},
   "source": [
    "##### 2. Define a function that computes the gradient of $f$, $\\nabla f(x)$ for any $x = (x_1, x_2)$."
   ]
  },
  {
   "cell_type": "code",
   "execution_count": 33,
   "metadata": {},
   "outputs": [],
   "source": [
    "def grad_f(x):\n",
    "    x1, x2 = x\n",
    "    partial_x1 = 2*x1\n",
    "    partial_x2 = 4*x2\n",
    "    return np.array([partial_x1, partial_x2])"
   ]
  },
  {
   "cell_type": "markdown",
   "metadata": {},
   "source": [
    "##### 3. Evaluate $f$ and its gradient function at $x^{(0)} = (9, 1)^T$."
   ]
  },
  {
   "cell_type": "code",
   "execution_count": 34,
   "metadata": {},
   "outputs": [
    {
     "name": "stdout",
     "output_type": "stream",
     "text": [
      "Function value at x_0 =  [9. 1.] : 83.0\n",
      "Gradient of f at x_0 =  [9. 1.] : [18.  4.]\n"
     ]
    }
   ],
   "source": [
    "x_0 = np.array([9.0, 1.0])\n",
    "\n",
    "print(\"Function value at x_0 = \",x_0,\":\", f(x_0))\n",
    "print(\"Gradient of f at x_0 = \",x_0,\":\", grad_f(x_0))"
   ]
  },
  {
   "cell_type": "markdown",
   "metadata": {},
   "source": [
    "##### 4. Define a function `wolfe_conditions` that verifies if the first and second Wolfe conditions are verified for some $\\alpha > 0$, given a function, its gradient function, a current point $x$, a direction $d$ and the parameters $\\eta$ and $\\bar{\\eta}$ of the Wolfe conditions. \n",
    "This function should take as input\n",
    "- a function $f$ (callable object)\n",
    "- its gradient function $\\nabla f$ (callable object)\n",
    "- a current points $x$\n",
    "- a direction $d$\n",
    "- a step size $\\alpha$\n",
    "- parameters $\\eta$ and $\\bar{\\eta}$.\n",
    "\n",
    "and should return a tuple of 2 booleans, indicating if each of the Wolfe conditions is verified."
   ]
  },
  {
   "cell_type": "markdown",
   "metadata": {},
   "source": [
    "First wolfe: $g(\\alpha^{(k)}) = f(x^{(k)} + \\alpha^{(k)} d^{(k)}) \\leq f(x^{(k)}) + \\eta \\alpha^{(k)} \\nabla f(x^{(k)})^T d^{(k)} = \\ell(\\alpha^{(k)})$\n",
    "\n",
    "Second wolfe: $\\nabla f(x^{(k)} + \\alpha^{(k)} d^{(k)})^T d^{(k)} \\geq \\bar{\\eta} \\nabla f(x^{(k)})^T d^{(k)}$\n"
   ]
  },
  {
   "cell_type": "code",
   "execution_count": 35,
   "metadata": {},
   "outputs": [],
   "source": [
    "def verify_first_wolfe(f, x, alpha, grad_f, d_N, eta = 0.2):\n",
    "    lhs = f(x + alpha * d_N)\n",
    "    rhs = f(x) + alpha * eta * grad_f(x).dot(d_N)\n",
    "    return lhs <= rhs\n",
    "\n",
    "def verify_second_wolfe(f, x, alpha, grad_f, d_N, eta_bar = 0.8):\n",
    "    lhs = grad_f(x + alpha * d_N).dot(d_N)\n",
    "    rhs = eta_bar * grad_f(x).dot(d_N)\n",
    "    return lhs >= rhs\n",
    "\n",
    "def wolfe_conditions(f, grad_f, x, d, alpha=0.1, eta=0.01, eta_bar=0.8):\n",
    "    return verify_first_wolfe(f, x, alpha, grad_f, d, eta), verify_second_wolfe(f, x, alpha, grad_f, d, eta_bar)"
   ]
  },
  {
   "cell_type": "markdown",
   "metadata": {},
   "source": [
    "##### 5. Test the `wolfe_conditions` function for the function $f$ at $x^{(0)} = (9, 1)^T$ with $d^{(0)} = −\\nabla f(x^{(0)})$, $\\alpha = 0.05$, $\\eta = 0.01$, $\\bar{\\eta} = 0.8$ "
   ]
  },
  {
   "cell_type": "code",
   "execution_count": 36,
   "metadata": {},
   "outputs": [
    {
     "name": "stdout",
     "output_type": "stream",
     "text": [
      "First Wolfe condition satisfied: True\n",
      "Second Wolfe condition satisfied: False\n"
     ]
    }
   ],
   "source": [
    "# Compute the direction d^(0)\n",
    "d_0 = -grad_f(x_0)\n",
    "\n",
    "# Test the wolfe_conditions function\n",
    "alpha = 0.05\n",
    "eta = 0.01\n",
    "eta_bar = 0.8\n",
    "\n",
    "verify_first, verify_second = wolfe_conditions(f, grad_f, x_0, d_0, alpha, eta, eta_bar)\n",
    "\n",
    "print(\"First Wolfe condition satisfied:\", verify_first)\n",
    "print(\"Second Wolfe condition satisfied:\", verify_second)"
   ]
  },
  {
   "cell_type": "markdown",
   "metadata": {},
   "source": [
    "##### 6. Define a function `backtracking` that implements the backtracking line search algorithm. \n",
    "This function should take as input\n",
    "- a function $f$ (callable object)\n",
    "- its gradient function $\\nabla f$ (callable object)\n",
    "- a current points $x$\n",
    "- a direction $d$\n",
    "- a maximum step size $\\bar{\\alpha}$\n",
    "- parameter $\\eta$ of the first Wolfe conditions\n",
    "and should return the found value of $\\alpha ^*$ and the new iterate $x_{new} = x + \\alpha ^* d$. It should also call the function `wolfe_conditions`."
   ]
  },
  {
   "cell_type": "code",
   "execution_count": 44,
   "metadata": {},
   "outputs": [],
   "source": [
    "def backtracking(f, grad_f, x, d, alpha_max, eta):\n",
    "    alpha = alpha_max\n",
    "    while not all(wolfe_conditions(f, grad_f, x, d, alpha, eta, eta_bar)): # Repeat until both Wolfe conditions are satisfied\n",
    "        alpha *= 0.5  # Reduce the step size (i.e. alpha)\n",
    "    x_new = x + alpha * d\n",
    "    return alpha, x_new"
   ]
  },
  {
   "cell_type": "markdown",
   "metadata": {},
   "source": [
    "##### 7. Test the `backtracking` function for the function $f$ at $x^(0) = (9, 1)^T$ with $d^{(0)} =−\\nabla f(x^{(0)})$, $\\bar{\\alpha} = 10$ and $\\eta = 0.01$."
   ]
  },
  {
   "cell_type": "code",
   "execution_count": 45,
   "metadata": {},
   "outputs": [
    {
     "name": "stdout",
     "output_type": "stream",
     "text": [
      "alpha*: 0.625\n",
      "x_new: [-2.25 -1.5 ]\n"
     ]
    }
   ],
   "source": [
    "x_0 = np.array([9.0, 1.0])\n",
    "d_0 = -grad_f(x_0)\n",
    "alpha_max = 10\n",
    "eta = 0.01\n",
    "\n",
    "alpha_star, x_new = backtracking(f, grad_f, x_0, d_0, alpha_max, eta)\n",
    "\n",
    "print(\"alpha*:\", alpha_star)\n",
    "print(\"x_new:\", x_new)"
   ]
  },
  {
   "cell_type": "markdown",
   "metadata": {},
   "source": [
    "#### **Problem 2** (Unconstrained optimisation)"
   ]
  },
  {
   "cell_type": "markdown",
   "metadata": {},
   "source": [
    "Consider the function $f(x) = x_1^3 − x_1 + x_2^3 − x_2$ and solve the following problem\n",
    "$$\n",
    "\\min_{x \\in \\R^2} f(x),\n",
    "$$\n",
    "\n",
    "using your own implementation of each of the following algorithms:\n",
    "- Gradient descent with a fixed constant step size, chosen by you.\n",
    "- Gradient descent with backtracking line search.\n",
    "- Newton’s method with backtracking line search.\n",
    "\n",
    "with starting point $x^{(0)} = (1, 1)^T$."
   ]
  },
  {
   "cell_type": "markdown",
   "metadata": {},
   "source": [
    "#### **Problem 3** (Finite difference)"
   ]
  },
  {
   "cell_type": "markdown",
   "metadata": {},
   "source": [
    "##### 1. Define a function `forward_finite_difference` that compute the forward finite difference approximation of the first derivative of a function $f$ at a point $x$. The function `forward_finite_difference` must take as input a function $f$, a point $x$ and a level $t$ used to compute the finite difference."
   ]
  },
  {
   "cell_type": "markdown",
   "metadata": {},
   "source": [
    "##### 2. Define a function $f$ that compute the $sin$ of any real number $x$. Then define another function that outputs the (analytical) derivative of $f$."
   ]
  },
  {
   "cell_type": "markdown",
   "metadata": {},
   "source": [
    "##### 3. Compute the estimate of $f'(x)$ at $x = 1$ using the function `forward_finite_difference` for $t = 10^{−16}, 10^{−15} , \\dots , 10^{−2}, 10^{−1}$ and compute the approximation error for each $t. Plot this error versus $t$ in _log-log scale_."
   ]
  },
  {
   "cell_type": "markdown",
   "metadata": {},
   "source": [
    "##### 4. Define a function `central_difference` that compute the central difference approximation of the first derivative of a function $f$ at a point $x$. The function `central_difference` must take as input a function $f$, a point $x$ and a level $t$ used to compute the finite difference."
   ]
  },
  {
   "cell_type": "markdown",
   "metadata": {},
   "source": [
    "##### 5. Compute the estimate of $f'(x)$ at x = 1 using the function `central_difference` for $t = 10^{−16}, 10^{−15} , \\dots , 10^{−2}, 10^{−1}$ and compute the approximation error for each $t$. Plot this error versus $t$ in _log-log scale_ and on the same plot, the error of the forward finite difference scheme. Comment the results."
   ]
  },
  {
   "cell_type": "markdown",
   "metadata": {},
   "source": []
  }
 ],
 "metadata": {
  "kernelspec": {
   "display_name": "3.10.12",
   "language": "python",
   "name": "python3"
  },
  "language_info": {
   "codemirror_mode": {
    "name": "ipython",
    "version": 3
   },
   "file_extension": ".py",
   "mimetype": "text/x-python",
   "name": "python",
   "nbconvert_exporter": "python",
   "pygments_lexer": "ipython3",
   "version": "3.10.12"
  }
 },
 "nbformat": 4,
 "nbformat_minor": 2
}
